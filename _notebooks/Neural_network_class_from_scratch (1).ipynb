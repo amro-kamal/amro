{
  "nbformat": 4,
  "nbformat_minor": 0,
  "metadata": {
    "colab": {
      "name": "Neural network class from scratch.ipynb",
      "provenance": [],
      "collapsed_sections": []
    },
    "kernelspec": {
      "display_name": "Python 3",
      "name": "python3"
    }
  },
  "cells": [
    {
      "cell_type": "code",
      "metadata": {
        "id": "CsdDXe7vF_mU"
      },
      "source": [
        "import numpy as np\n",
        "import matplotlib.pyplot as plt\n",
        "import torch"
      ],
      "execution_count": 1,
      "outputs": []
    },
    {
      "cell_type": "code",
      "metadata": {
        "id": "mTBsaOjVy-EN"
      },
      "source": [
        "\n",
        "class neural_net:\n",
        "  def __init__(self,input , y ,nodes_per_layer,activations , print_weights=False):\n",
        "#     x shape is  (3, 8)\n",
        "#     X  is \n",
        "#      [[ 3  4  3 33 23 53  3 33]\n",
        "#       [ 4  1  9 42 44 64 64 34]\n",
        "#       [ 2  2  4  2 25 72  2 42]]\n",
        "#     y shape is (2, 8)\n",
        "#     y  is \n",
        "#       [[1 0 1 0 0 1 1 1]\n",
        "#        [1 1 0 0 1 0 1 0]]\n",
        "\n",
        "    n=input.shape[0]\n",
        "    d=input.shape[1]\n",
        "    #initializing the weights\n",
        "\n",
        "    self.input=input\n",
        "    self.input_shape=self.input.shape        #n[0] x m .....3x8\n",
        "    self.num_samples=self.input.shape[0]           # 8\n",
        "    self.nodes_per_layer=nodes_per_layer\n",
        "    self.activations=activations\n",
        "    self.y=y                    #n[l] x 1   ............2x8\n",
        "    self.weights=[]\n",
        "    self.b=[]\n",
        "    layer_weights = torch.empty(self.nodes_per_layer[0]*d).normal_(mean=0,std=0.001).reshape(self.nodes_per_layer[0] , d)\n",
        "    layer_bias = torch.empty(self.nodes_per_layer[0]).normal_(mean=0,std=0.001).reshape( self.nodes_per_layer[0] , 1)  #10000 x 1\n",
        "    self.weights.append(layer_weights)\n",
        "    self.b.append(layer_bias)\n",
        "    if print_weights:\n",
        "      print( 'layer 1 weights shape is',layer_weights.shape)\n",
        "      print( 'layer 1 weights  is \\n',layer_weights)\n",
        "\n",
        "      print( 'layer 1 bias shape is',layer_bias.shape)\n",
        "      print( 'layer 1  bias  is',layer_bias)\n",
        "\n",
        "\n",
        "    for i in range(self.nodes_per_layer.shape[0]-1):    #[4,3,2]\n",
        "      layer_weights = torch.empty(self.nodes_per_layer[i+1]*self.nodes_per_layer[i]).normal_(mean=0,std=0.001).reshape(self.nodes_per_layer[i+1],self.nodes_per_layer[i])\n",
        "      self.weights.append(layer_weights)\n",
        "      layer_bias = torch.empty(self.nodes_per_layer[i+1]).normal_(mean=0,std=0.001).reshape( self.nodes_per_layer[i+1] , 1)\n",
        "      self.b.append(layer_bias)\n",
        "      if print_weights:\n",
        "        print( 'layer ',str(i+2) ,' weights shape is',layer_weights.shape)\n",
        "        print( 'layer ',str(i+2) ,' weights  is \\n',layer_weights)\n",
        "\n",
        "        print( 'layer ',str(i+2) ,' bias shape is',layer_bias.shape)\n",
        "        print( 'layer ',str(i+2) ,' bias  is \\n',layer_bias)\n",
        "\n",
        "    \n",
        "\n",
        "  def forward_propagation(self , input):\n",
        "\n",
        "    # print('forward propadation')\n",
        "    self.a=[]         #[4,1],[3,1],[2,1]\n",
        "    z=torch.mm(self.weights[0] , input.t()) + self.b[0]\n",
        "    self.layer_output =self.Activation(z,self.activations[0]) \n",
        "    self.a.append(self.layer_output)\n",
        "\n",
        "    for i in range(1,self.nodes_per_layer.shape[0]):    #[4,3,2]\n",
        "      z=torch.mm(self.weights[i] , self.layer_output) + self.b[i]\n",
        "      self.layer_output=self.Activation(z,self.activations[i]) \n",
        "      self.a.append(self.layer_output)\n",
        "      # print('layer ' , str(i+1) ,' output \\n',self.layer_output)\n",
        "\n",
        "    # print('a= \\n',self.a)\n",
        "    return self.a[-1]\n",
        "\n",
        "\n",
        "  def back_propagation(self ,lr=0.01):\n",
        "\n",
        "    self.dz=self.a.copy()\n",
        "    self.dw=self.weights.copy()\n",
        "    self.db=self.b.copy()\n",
        "\n",
        "    self.dz[-1]=2 * (self.a[-1].t() - self.y) * self.Activation_derivative(self.a[-1].t() , activation=self.activations[-1])\n",
        "    self.dw[-1]=torch.mm(self.dz[-1].t() , self.a[-2].t()) * (1/self.num_samples)\n",
        "    self.db[-1]=torch.sum(self.dz[-1].t(),axis=1,keepdims=True) * (1/self.num_samples)\n",
        "\n",
        "    for i in range(-(self.nodes_per_layer.shape[0]-2),1):    #[4,3,2]\n",
        "      i=-i             #1,0\n",
        "      self.dz[i]=torch.mm(self.dz[i+1] , self.weights[i+1] ) * self.Activation_derivative(self.a[i].t() , activation=self.activations[i])\n",
        "      self.db[i]=torch.sum(self.dz[i].t(),axis=1,keepdims=True) * (1/self.num_samples)\n",
        "\n",
        "      if(i!=0):\n",
        "        self.dw[i]=torch.mm(self.dz[i].t() , self.a[i-1].t()) * (1/self.num_samples)\n",
        "\n",
        "      elif(i==0):\n",
        "        self.dw[i]=torch.mm(self.dz[i].t() , self.input) * (1/self.num_samples)\n",
        "\n",
        "\n",
        "    self.gradient_discent(self.weights,self.dw,self.b,self.db,lr=lr)\n",
        "\n",
        "  def gradient_discent(self,w,dw,b,db,lr):\n",
        "    for i in range(len (self.weights)):\n",
        "      self.weights[i]=w[i]-lr * dw[i]\n",
        "      self.b[i]=self.b[i]-lr * db[i]\n",
        "\n",
        "    \n",
        "  def train(self,epochs , lr=0.01 , verbose=True):\n",
        "    self.loss=[]\n",
        "    for i in range(epochs):\n",
        "      if verbose: print ('epoch ',str(i+1) ,'/',epochs)\n",
        "      self.forward_propagation(self.input)\n",
        "      self.loss.append(torch.mean ( self.l2_loss( self.y , self.a[-1].t() ) ) )\n",
        "      self.back_propagation(lr=lr)\n",
        "      if verbose : print('loss= ',self.loss[i])\n",
        "      if verbose : print('-------'*10)\n",
        "\n",
        "    plt.plot(self.loss)\n",
        "    plt.ylabel('loss')\n",
        "    plt.show()\n",
        "\n",
        "    # self.accuracy(self.a[-1] , self.y)\n",
        "\n",
        "    return self.loss, self.a[-1]\n",
        "\n",
        "  def sigmoid(self,z):\n",
        "    s= 1/(1 + np.exp(-z)) \n",
        "    return s\n",
        "\n",
        "  def Relu(self,z):\n",
        "    return np.maximum(0,z)\n",
        "\n",
        "  def tanh(self,z):\n",
        "    return (np.exp(z) - np.exp(-z))/(np.exp(z) + np.exp(-z))\n",
        "\n",
        "  def softmax(self,y):\n",
        "    exps = np.exp(y)\n",
        "    return exps / np.sum(exps)\n",
        "\n",
        "  def Activation(self,z,method='sigmoid'):\n",
        "    \n",
        "      if (method=='sigmoid'):\n",
        "        return self.sigmoid(z)\n",
        "      elif(method=='tanh'):\n",
        "        return self.tanh(z)\n",
        "      elif (method=='Relu'):\n",
        "        return self.Relu(z)\n",
        "      elif method==None:\n",
        "        return z\n",
        "      else :\n",
        "        return z\n",
        "        \n",
        "  def predict(self , input):\n",
        "\n",
        "    z=torch.mm(self.weights[0] , input.t()) + self.b[0]\n",
        "    layer_output =self.Activation(z,self.activations[0]) \n",
        "    for i in range(1,self.nodes_per_layer.shape[0]):    #[4,3,2]\n",
        "      z=torch.mm(self.weights[i] , layer_output) + self.b[i]\n",
        "      layer_output=self.Activation(z,self.activations[i]) \n",
        "\n",
        "\n",
        "    return layer_output\n",
        "\n",
        "\n",
        "  def Activation_derivative(self,a,activation='sigmoid'):\n",
        "    if (activation=='sigmoid'):\n",
        "      return a * (1-a)\n",
        "    elif (activation=='tanh'):\n",
        "      return 1-a**2\n",
        "    elif (activation=='Relu'):\n",
        "      return np.minimum(-np.maximum(0,z),1)\n",
        "\n",
        "  def l2_loss(self , y_pred , y):\n",
        "  # return torch.sum(torch.pow(y - y_pred ,2) , axis=1 ) #nx1\n",
        "    return torch.norm(y-y_pred , dim=1)**2\n",
        "  \n",
        " \n",
        "  def cross_entropy_loss(self,a, y):\n",
        "    return - np.mean(\n",
        "        np.multiply(y, np.log(a)) + np.multiply((1-y), np.log(1-a)))\n",
        "    \n",
        "  def accuracy(self , a , Y):\n",
        "    correct=0\n",
        "    for i in range(Y.shape[0]) :\n",
        "      if torch.argmax( a.t() , axis=1 )[i]==torch.argmax( Y , axis=1 )[i]:\n",
        "        correct+=1\n",
        "    acc=(correct / Y.shape[0]) * 100\n",
        "    print('accuracy = ', acc , '%')\n",
        "\n",
        "\n",
        " \n",
        "   \n",
        "  "
      ],
      "execution_count": 2,
      "outputs": []
    },
    {
      "cell_type": "markdown",
      "metadata": {
        "id": "Xo3AzkDEzVeY"
      },
      "source": [
        "### Loading mnist dataset from keras.datasets"
      ]
    },
    {
      "cell_type": "markdown",
      "metadata": {
        "id": "bsJndhwVxOZy"
      },
      "source": [
        "Download MNIST dataset"
      ]
    },
    {
      "cell_type": "code",
      "metadata": {
        "colab": {
          "base_uri": "https://localhost:8080/"
        },
        "id": "DUoD-xXRzEjF",
        "outputId": "5a021da9-ce13-4f2c-8bbf-de33b03acd5a"
      },
      "source": [
        "import tensorflow as tf\n",
        "mnist = tf.keras.datasets.mnist\n",
        "\n",
        "(x_train, y_train),(x_test, y_test) = mnist.load_data()\n",
        "x_train, x_test = x_train.astype('float32') / 255.0, x_test.astype('float32') / 255.0\n"
      ],
      "execution_count": 3,
      "outputs": [
        {
          "output_type": "stream",
          "name": "stdout",
          "text": [
            "Downloading data from https://storage.googleapis.com/tensorflow/tf-keras-datasets/mnist.npz\n",
            "11493376/11490434 [==============================] - 0s 0us/step\n",
            "11501568/11490434 [==============================] - 0s 0us/step\n"
          ]
        }
      ]
    },
    {
      "cell_type": "code",
      "metadata": {
        "id": "_ABack5trqAX",
        "colab": {
          "base_uri": "https://localhost:8080/"
        },
        "outputId": "12617f04-27fe-48fe-8a49-53807d6c36b0"
      },
      "source": [
        "x_train.shape , y_train.shape , x_test.shape , y_test.shape"
      ],
      "execution_count": 4,
      "outputs": [
        {
          "output_type": "execute_result",
          "data": {
            "text/plain": [
              "((60000, 28, 28), (60000,), (10000, 28, 28), (10000,))"
            ]
          },
          "metadata": {},
          "execution_count": 4
        }
      ]
    },
    {
      "cell_type": "markdown",
      "metadata": {
        "id": "meNfuSo-zddx"
      },
      "source": [
        "### preprocessing the data"
      ]
    },
    {
      "cell_type": "markdown",
      "metadata": {
        "id": "VXXHu97jx7Lp"
      },
      "source": [
        "Convert each image to a vector of lenght 28x28 and each label to a one-hot vector."
      ]
    },
    {
      "cell_type": "code",
      "metadata": {
        "id": "No_yYjXmylJw"
      },
      "source": [
        "from tensorflow.keras.utils import to_categorical"
      ],
      "execution_count": 8,
      "outputs": []
    },
    {
      "cell_type": "code",
      "metadata": {
        "id": "VwJX3zYyzEgx"
      },
      "source": [
        "x_train = x_train.reshape(-1 , 28*28)\n",
        "x_test = x_test.reshape(-1 , 28*28)\n",
        "y_train = to_categorical(y_train)\n",
        "y_test = to_categorical(y_test)\n",
        "x_train = torch.from_numpy(x_train)\n",
        "x_test = torch.from_numpy(x_test)\n",
        "\n",
        "y_train = torch.from_numpy(y_train)\n",
        "y_test = torch.from_numpy(y_test)"
      ],
      "execution_count": 9,
      "outputs": []
    },
    {
      "cell_type": "markdown",
      "metadata": {
        "id": "K5oj9iqyztye"
      },
      "source": [
        "### Creating the model"
      ]
    },
    {
      "cell_type": "markdown",
      "metadata": {
        "id": "Y4rMLFOSxX8T"
      },
      "source": [
        "Let's create a model with two layers. The first layer has 128 neurons and the second one has 10 neurons (number of MNISt classes). We will use tanh for the first layer and sigmoid for the second one."
      ]
    },
    {
      "cell_type": "code",
      "metadata": {
        "id": "y0iMGhTzzEeY"
      },
      "source": [
        "nn=neural_net(x_train , y_train ,nodes_per_layer = np.array([128,10]) , activations=np.array(['tanh','sigmoid']) )   #  (self,input,nodes_per_layer,activations,y):"
      ],
      "execution_count": 10,
      "outputs": []
    },
    {
      "cell_type": "markdown",
      "metadata": {
        "id": "w9j9WyOozml0"
      },
      "source": [
        "### Training the model"
      ]
    },
    {
      "cell_type": "code",
      "metadata": {
        "colab": {
          "base_uri": "https://localhost:8080/",
          "height": 265
        },
        "id": "uT8Xl1lGzrH1",
        "outputId": "be31c9d8-e9f8-4d32-dcdc-cc50b0b1ea04"
      },
      "source": [
        "loss , y_pred = nn.train(epochs=1000 ,lr=0.1,verbose=False)"
      ],
      "execution_count": 11,
      "outputs": [
        {
          "output_type": "display_data",
          "data": {
            "image/png": "[encoded data removed]",
            "text/plain": [
              "<Figure size 432x288 with 1 Axes>"
            ]
          },
          "metadata": {
            "needs_background": "light"
          }
        }
      ]
    },
    {
      "cell_type": "markdown",
      "metadata": {
        "id": "oAJeSpMKz301"
      },
      "source": [
        "### Prediction for the test data"
      ]
    },
    {
      "cell_type": "code",
      "metadata": {
        "colab": {
          "base_uri": "https://localhost:8080/"
        },
        "id": "xGj27I3OzlxQ",
        "outputId": "f8c171af-6ecc-4ec0-efdb-2725745bef8e"
      },
      "source": [
        "y_pred = nn.predict( x_test )\n",
        "nn.accuracy(y_pred,y_test)\n"
      ],
      "execution_count": 12,
      "outputs": [
        {
          "output_type": "stream",
          "name": "stdout",
          "text": [
            "train accuracy =  84.59 %\n"
          ]
        }
      ]
    },
    {
      "cell_type": "code",
      "metadata": {
        "id": "Itn63HcDwZAX"
      },
      "source": [
        ""
      ],
      "execution_count": null,
      "outputs": []
    }
  ]
}